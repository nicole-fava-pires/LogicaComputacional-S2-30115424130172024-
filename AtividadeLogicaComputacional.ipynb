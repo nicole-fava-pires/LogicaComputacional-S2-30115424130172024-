{
  "nbformat": 4,
  "nbformat_minor": 0,
  "metadata": {
    "colab": {
      "provenance": [],
      "authorship_tag": "ABX9TyPn+IiXMZBTSkA1c3ZpPF8s"
    },
    "kernelspec": {
      "name": "python3",
      "display_name": "Python 3"
    },
    "language_info": {
      "name": "python"
    }
  },
  "cells": [
    {
      "cell_type": "code",
      "source": [
        "!pip install truth-table-generator\n",
        "\n",
        "import ttg\n",
        "\n",
        "#Construindo o Dilema Construtivo (DC) com a biblioteca truth-table-generator e o cabeçalho (header)\n",
        "DC = ttg.Truths(['p', 'q', 'r', 's'], [\"((p implies q) and (r implies s) and (p or r)) implies (q or s)\"], ints=False)\n",
        "header = \"((p -> q) ^ (r -> s) ^ (p v r)) -> (q v s)\"\n",
        "\n",
        "#Imprimindo o cabeçalho e a tabela-verdade:\n",
        "print(f\"((p -> q) ^ (r -> s) ^ (p v r)) -> (q v s)\")\n",
        "print(DC)\n",
        "\n",
        "#Fim da atividade"
      ],
      "metadata": {
        "colab": {
          "base_uri": "https://localhost:8080/"
        },
        "id": "tWH8W4numMlC",
        "outputId": "2878c22f-6f9f-4bf8-9e6a-3d0b1e586cbd"
      },
      "execution_count": 24,
      "outputs": [
        {
          "output_type": "stream",
          "name": "stdout",
          "text": [
            "Requirement already satisfied: truth-table-generator in /usr/local/lib/python3.10/dist-packages (2.0.0)\n",
            "Requirement already satisfied: numpy in /usr/local/lib/python3.10/dist-packages (from truth-table-generator) (1.26.4)\n",
            "Requirement already satisfied: pandas in /usr/local/lib/python3.10/dist-packages (from truth-table-generator) (2.1.4)\n",
            "Requirement already satisfied: PTable in /usr/local/lib/python3.10/dist-packages (from truth-table-generator) (0.9.2)\n",
            "Requirement already satisfied: pyparsing in /usr/local/lib/python3.10/dist-packages (from truth-table-generator) (3.1.4)\n",
            "Requirement already satisfied: tabulate in /usr/local/lib/python3.10/dist-packages (from truth-table-generator) (0.9.0)\n",
            "Requirement already satisfied: jinja2 in /usr/local/lib/python3.10/dist-packages (from truth-table-generator) (3.1.4)\n",
            "Requirement already satisfied: MarkupSafe>=2.0 in /usr/local/lib/python3.10/dist-packages (from jinja2->truth-table-generator) (2.1.5)\n",
            "Requirement already satisfied: python-dateutil>=2.8.2 in /usr/local/lib/python3.10/dist-packages (from pandas->truth-table-generator) (2.8.2)\n",
            "Requirement already satisfied: pytz>=2020.1 in /usr/local/lib/python3.10/dist-packages (from pandas->truth-table-generator) (2024.2)\n",
            "Requirement already satisfied: tzdata>=2022.1 in /usr/local/lib/python3.10/dist-packages (from pandas->truth-table-generator) (2024.1)\n",
            "Requirement already satisfied: six>=1.5 in /usr/local/lib/python3.10/dist-packages (from python-dateutil>=2.8.2->pandas->truth-table-generator) (1.16.0)\n",
            "((p -> q) ^ (r -> s) ^ (p v r)) -> (q v s)\n",
            "+-------+-------+-------+-------+-------------------------------------------------------------------+\n",
            "|   p   |   q   |   r   |   s   |  ((p implies q) and (r implies s) and (p or r)) implies (q or s)  |\n",
            "|-------+-------+-------+-------+-------------------------------------------------------------------|\n",
            "| True  | True  | True  | True  |                               True                                |\n",
            "| True  | True  | True  | False |                               True                                |\n",
            "| True  | True  | False | True  |                               True                                |\n",
            "| True  | True  | False | False |                               True                                |\n",
            "| True  | False | True  | True  |                               True                                |\n",
            "| True  | False | True  | False |                               True                                |\n",
            "| True  | False | False | True  |                               True                                |\n",
            "| True  | False | False | False |                               True                                |\n",
            "| False | True  | True  | True  |                               True                                |\n",
            "| False | True  | True  | False |                               True                                |\n",
            "| False | True  | False | True  |                               True                                |\n",
            "| False | True  | False | False |                               True                                |\n",
            "| False | False | True  | True  |                               True                                |\n",
            "| False | False | True  | False |                               True                                |\n",
            "| False | False | False | True  |                               True                                |\n",
            "| False | False | False | False |                               True                                |\n",
            "+-------+-------+-------+-------+-------------------------------------------------------------------+\n"
          ]
        }
      ]
    }
  ]
}